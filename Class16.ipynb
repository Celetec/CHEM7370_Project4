{
 "cells": [
  {
   "cell_type": "markdown",
   "id": "3e7143b0",
   "metadata": {},
   "source": [
    "# CHEM7370 Class 16\n",
    "## Calculating bond lengths and angles\n",
    "Let's now go back to the XYZ geometry of toluene. We want to find the bond lengths present in this molecule.\n",
    "\n",
    "At the moment, the nuclear coordinates are contained in the string variable `xyz`, so first we need to convert them into a NumPy array."
   ]
  },
  {
   "cell_type": "code",
   "execution_count": 2,
   "id": "fccef06b",
   "metadata": {},
   "outputs": [
    {
     "name": "stdout",
     "output_type": "stream",
     "text": [
      "[[ 2.2126 -0.1714  0.0957]\n",
      " [ 0.7202 -0.052   0.0066]\n",
      " [ 0.0966  1.1905  0.1749]\n",
      " [-1.2944  1.2963  0.1233]\n",
      " [-2.0737  0.1601 -0.0865]\n",
      " [-1.463  -1.083  -0.2404]\n",
      " [-0.0721 -1.1901 -0.189 ]\n",
      " [ 2.5123 -0.3511  1.1327]\n",
      " [ 2.6995  0.7425 -0.2605]\n",
      " [ 2.5763 -0.9961 -0.5262]\n",
      " [ 0.6916  2.0845  0.3467]\n",
      " [-1.7697  2.2653  0.2497]\n",
      " [-3.1565  0.2429 -0.1257]\n",
      " [-2.0699 -1.9706 -0.3979]\n",
      " [ 0.3903 -2.1678 -0.3034]]\n"
     ]
    }
   ],
   "source": [
    "import numpy as np\n",
    "xyz = '''15\n",
    "XYZ geometry from RDKit\n",
    "C 2.2126 -0.1714 0.0957\n",
    "C 0.7202 -0.0520 0.0066\n",
    "C 0.0966 1.1905 0.1749\n",
    "C -1.2944 1.2963 0.1233\n",
    "C -2.0737 0.1601 -0.0865\n",
    "C -1.4630 -1.0830 -0.2404\n",
    "C -0.0721 -1.1901 -0.1890\n",
    "H 2.5123 -0.3511 1.1327\n",
    "H 2.6995 0.7425 -0.2605\n",
    "H 2.5763 -0.9961 -0.5262\n",
    "H 0.6916 2.0845 0.3467\n",
    "H -1.7697 2.2653 0.2497\n",
    "H -3.1565 0.2429 -0.1257\n",
    "H -2.0699 -1.9706 -0.3979\n",
    "H 0.3903 -2.1678 -0.3034\n",
    "'''\n",
    "xyz_lines = xyz.split(\"\\n\")\n",
    "natoms = int(xyz_lines[0])\n",
    "lcoord = []\n",
    "atom_symbols = []\n",
    "for atom in xyz_lines[2:natoms+2]:\n",
    "    atom_symbols.append(atom.split()[0])\n",
    "    lcoord.append([float(x) for x in atom.split()[1:]])\n",
    "lcoord = np.array(lcoord)\n",
    "print(lcoord)"
   ]
  },
  {
   "cell_type": "markdown",
   "id": "a245da03",
   "metadata": {},
   "source": [
    "We will need a function that takes two `numpy` arrays `atom1` and `atom2` (each with 3 coordinates) and calculates the distance between the two atoms. Complete this function."
   ]
  },
  {
   "cell_type": "code",
   "execution_count": 3,
   "id": "0a30a563",
   "metadata": {},
   "outputs": [],
   "source": [
    "def distance(atom1,atom2):\n",
    "#    return np.sqrt((atom2[0]-atom1[0])*(atom2[0]-atom1[0])+(atom2[1]-atom1[1])*(atom2[1]-atom1[1])+(\n",
    "#        atom2[2]-atom1[2])*(atom2[2]-atom1[2]))\n",
    "    return np.sqrt(np.sum((atom2-atom1)*(atom2-atom1)))"
   ]
  },
  {
   "cell_type": "markdown",
   "id": "f27b3274",
   "metadata": {},
   "source": [
    "Let's now pick every pair of atoms (with the double `for` loop), calculate the distance, and print it if it's less than 1.6 Angstroms (so that it likely represents a bond). Complete the code inside the loops."
   ]
  },
  {
   "cell_type": "code",
   "execution_count": 4,
   "id": "2dafa549",
   "metadata": {},
   "outputs": [
    {
     "name": "stdout",
     "output_type": "stream",
     "text": [
      "1.4998176322473344\n",
      "1.400359989431289\n",
      "1.3959717762189894\n",
      "1.3936552550756591\n",
      "1.3935341079428232\n",
      "1.4004535908054931\n",
      "1.3959638892177693\n",
      "1.0942948323006922\n",
      "1.0950631306002407\n",
      "1.0950650163346467\n",
      "1.0875551664168581\n",
      "1.0866683256633551\n",
      "1.0866684498962873\n",
      "1.0867233410578794\n",
      "1.0875653589554977\n"
     ]
    }
   ],
   "source": [
    "for i in range(natoms):\n",
    "    for j in range(i):\n",
    "        dist = distance(lcoord[i,:],lcoord[j,:])\n",
    "        if dist < 1.6:\n",
    "            print(dist)"
   ]
  },
  {
   "cell_type": "markdown",
   "id": "852e9600",
   "metadata": {},
   "source": [
    "Modify the code above so that, for every bond, it also prints the bond type (C-C or C-H). Remember that we saved the `atom_symbols` array."
   ]
  },
  {
   "cell_type": "code",
   "execution_count": 5,
   "id": "511f5d3c",
   "metadata": {},
   "outputs": [
    {
     "name": "stdout",
     "output_type": "stream",
     "text": [
      "C-C 1.4998176322473344\n",
      "C-C 1.400359989431289\n",
      "C-C 1.3959717762189894\n",
      "C-C 1.3936552550756591\n",
      "C-C 1.3935341079428232\n",
      "C-C 1.4004535908054931\n",
      "C-C 1.3959638892177693\n",
      "H-C 1.0942948323006922\n",
      "H-C 1.0950631306002407\n",
      "H-C 1.0950650163346467\n",
      "H-C 1.0875551664168581\n",
      "H-C 1.0866683256633551\n",
      "H-C 1.0866684498962873\n",
      "H-C 1.0867233410578794\n",
      "H-C 1.0875653589554977\n"
     ]
    }
   ],
   "source": [
    "for i in range(natoms):\n",
    "    for j in range(i):\n",
    "        dist = distance(lcoord[i,:],lcoord[j,:])\n",
    "        if dist < 1.6:\n",
    "            print(atom_symbols[i]+\"-\"+atom_symbols[j],dist)"
   ]
  },
  {
   "cell_type": "markdown",
   "id": "8fea72e5",
   "metadata": {},
   "source": [
    "As our last task, let's find the bond angles in this molecule.\n",
    "\n",
    "A short refresher from geometry: the dot product `np.dot(v1,v2)` of two vectors *v<sub>1</sub>=(x<sub>1</sub>,y<sub>1</sub>,z<sub>1</sub>)* and *v<sub>2</sub>=(x<sub>2</sub>,y<sub>2</sub>,z<sub>2</sub>)* equals *x<sub>1</sub>x<sub>2</sub>+y<sub>1</sub>y<sub>2</sub>+z<sub>1</sub>z<sub>2</sub>*. This dot product is equal to the product of the lengths of *v<sub>1</sub>* and *v<sub>2</sub>* times the cosine of the angle between the two vectors. If you calculate the cosine, you can use the inverse cosine function `np.arccos()` to get the angle - just remember that this angle will be in radians, and you need to multiply it by `180.0/np.pi` to convert it to degrees.\n",
    "\n",
    "Complete the function that takes three `numpy` arrays `atom1`, `atom2`, `atom3` (each with 3 coordinates) and calculates the `atom1-atom2-atom3` angle."
   ]
  },
  {
   "cell_type": "code",
   "execution_count": 6,
   "id": "3782b7b0",
   "metadata": {},
   "outputs": [],
   "source": [
    "def angle(atom1,atom2,atom3):\n",
    "    v1 = atom1 - atom2\n",
    "    v2 = atom3 - atom2\n",
    "    v1dotv2 = np.dot(v1,v2)\n",
    "    lenv1 = distance(atom2,atom1)\n",
    "    lenv2 = distance(atom3,atom2)\n",
    "    cosalpha = v1dotv2/(lenv1*lenv2)\n",
    "    return np.arccos(cosalpha)*180.0/np.pi"
   ]
  },
  {
   "cell_type": "markdown",
   "id": "1c333a5e",
   "metadata": {},
   "source": [
    "Now, use the definition of `angle` to print the angles between any two bonds sharing a common atom. Remember that for any three atoms `atom1`, `atom2`, `atom3` you need to check three possibilities - each of the three atoms can be bonded to the other two. For example, if `atom1` is bonded to both `atom2` and `atom3`, you need to print the angle `atom2-atom1-atom3`. Please also print the type of the bond angle (for example, `C-C-H`)."
   ]
  },
  {
   "cell_type": "code",
   "execution_count": 7,
   "id": "02d3d5d4",
   "metadata": {},
   "outputs": [
    {
     "name": "stdout",
     "output_type": "stream",
     "text": [
      "C-C-C 120.4381098505056\n",
      "C-C-C 120.43307373881382\n",
      "C-C-C 120.06362313049614\n",
      "C-C-C 119.92259387703254\n",
      "C-C-C 120.43420602329655\n",
      "C-C-C 119.07188682779349\n",
      "C-C-C 120.43011621160676\n",
      "C-C-C 120.0675840332504\n",
      "H-C-C 109.99209093824534\n",
      "H-C-C 110.89580935805935\n",
      "H-C-H 108.87604443305837\n",
      "H-C-C 110.89768694022479\n",
      "H-C-H 108.87740131088155\n",
      "H-C-H 107.22421859586296\n",
      "H-C-C 120.31251246623872\n",
      "H-C-C 119.25439953339851\n",
      "H-C-C 119.94162355048594\n",
      "H-C-C 119.99452714569934\n",
      "H-C-C 120.0328676907391\n",
      "H-C-C 120.04400448136244\n",
      "H-C-C 119.99073693666085\n",
      "H-C-C 119.94146820020558\n",
      "H-C-C 120.31303394534035\n",
      "H-C-C 119.2568317927332\n"
     ]
    }
   ],
   "source": [
    "for i in range(natoms):\n",
    "    for j in range(i):\n",
    "        for k in range(j):\n",
    "            if distance(lcoord[i,:],lcoord[j,:]) < 1.6 and distance(lcoord[i,:],lcoord[k,:]) < 1.6:\n",
    "                print(atom_symbols[j]+\"-\"+atom_symbols[i]+\"-\"+atom_symbols[k],angle(lcoord[j,:],lcoord[i,:],lcoord[k,:]))\n",
    "            if distance(lcoord[i,:],lcoord[j,:]) < 1.6 and distance(lcoord[j,:],lcoord[k,:]) < 1.6:\n",
    "                print(atom_symbols[i]+\"-\"+atom_symbols[j]+\"-\"+atom_symbols[k],angle(lcoord[i,:],lcoord[j,:],lcoord[k,:]))\n",
    "            if distance(lcoord[j,:],lcoord[k,:]) < 1.6 and distance(lcoord[i,:],lcoord[k,:]) < 1.6:\n",
    "                print(atom_symbols[i]+\"-\"+atom_symbols[k]+\"-\"+atom_symbols[j],angle(lcoord[i,:],lcoord[k,:],lcoord[j,:]))    \n",
    "                "
   ]
  },
  {
   "cell_type": "markdown",
   "id": "ff80657f",
   "metadata": {},
   "source": [
    "Now, the specific tasks that are needed for Project 4:"
   ]
  },
  {
   "cell_type": "code",
   "execution_count": 23,
   "id": "7e781dc5",
   "metadata": {},
   "outputs": [
    {
     "name": "stdout",
     "output_type": "stream",
     "text": [
      "[[ 6.      2.2126 -0.1714  0.0957]\n",
      " [ 6.      0.7202 -0.052   0.0066]\n",
      " [ 6.      0.0966  1.1905  0.1749]\n",
      " [ 6.     -1.2944  1.2963  0.1233]\n",
      " [ 6.     -2.0737  0.1601 -0.0865]\n",
      " [ 6.     -1.463  -1.083  -0.2404]\n",
      " [ 6.     -0.0721 -1.1901 -0.189 ]\n",
      " [ 1.      2.5123 -0.3511  1.1327]\n",
      " [ 1.      2.6995  0.7425 -0.2605]\n",
      " [ 1.      2.5763 -0.9961 -0.5262]\n",
      " [ 1.      0.6916  2.0845  0.3467]\n",
      " [ 1.     -1.7697  2.2653  0.2497]\n",
      " [ 1.     -3.1565  0.2429 -0.1257]\n",
      " [ 1.     -2.0699 -1.9706 -0.3979]\n",
      " [ 1.      0.3903 -2.1678 -0.3034]]\n",
      "(15, 4)\n"
     ]
    }
   ],
   "source": [
    "atomic_numbers = {'H':1, 'B':5, 'C':6, 'N':7, 'O':8, 'F':9, 'P':15, 'S':16, 'Cl':17}\n",
    "charges = []\n",
    "for symbol in atom_symbols:\n",
    "    if symbol in atomic_numbers:\n",
    "        charges.append(float(atomic_numbers[symbol]))\n",
    "    else:\n",
    "        print ('Unknown atom:',symbol)\n",
    "charges = (np.array(charges)[np.newaxis]).T\n",
    "#print(charges.shape,lcoord.shape)\n",
    "molecule = np.hstack((charges,lcoord))\n",
    "print(molecule)\n",
    "print(molecule.shape)"
   ]
  },
  {
   "cell_type": "code",
   "execution_count": null,
   "id": "7e690b79",
   "metadata": {},
   "outputs": [],
   "source": [
    "#task 1"
   ]
  },
  {
   "cell_type": "code",
   "execution_count": null,
   "id": "a4b2577f",
   "metadata": {},
   "outputs": [],
   "source": [
    "#task 2"
   ]
  },
  {
   "cell_type": "code",
   "execution_count": null,
   "id": "a14c7431",
   "metadata": {},
   "outputs": [],
   "source": [
    "#task 3"
   ]
  },
  {
   "cell_type": "code",
   "execution_count": null,
   "id": "80b522b4",
   "metadata": {},
   "outputs": [],
   "source": [
    "#task 4"
   ]
  },
  {
   "cell_type": "code",
   "execution_count": null,
   "id": "fc5d95bc",
   "metadata": {},
   "outputs": [],
   "source": [
    "#task 5"
   ]
  },
  {
   "cell_type": "code",
   "execution_count": null,
   "id": "ac3766e4",
   "metadata": {},
   "outputs": [],
   "source": [
    "#task 6"
   ]
  },
  {
   "cell_type": "code",
   "execution_count": null,
   "id": "1fadf781",
   "metadata": {},
   "outputs": [],
   "source": [
    "#task 7"
   ]
  },
  {
   "cell_type": "code",
   "execution_count": null,
   "id": "2532477a",
   "metadata": {},
   "outputs": [],
   "source": [
    "#task 8"
   ]
  },
  {
   "cell_type": "code",
   "execution_count": null,
   "id": "cf04215b",
   "metadata": {},
   "outputs": [],
   "source": [
    "#task 9"
   ]
  },
  {
   "cell_type": "code",
   "execution_count": 22,
   "id": "359bb7ab",
   "metadata": {},
   "outputs": [
    {
     "name": "stdout",
     "output_type": "stream",
     "text": [
      "[[ 6.     -2.2126  0.1714 -0.0957]\n",
      " [ 6.     -0.7202  0.052  -0.0066]\n",
      " [ 6.     -0.0966 -1.1905 -0.1749]\n",
      " [ 6.      1.2944 -1.2963 -0.1233]\n",
      " [ 6.      2.0737 -0.1601  0.0865]\n",
      " [ 6.      1.463   1.083   0.2404]\n",
      " [ 6.      0.0721  1.1901  0.189 ]\n",
      " [ 1.     -2.5123  0.3511 -1.1327]\n",
      " [ 1.     -2.6995 -0.7425  0.2605]\n",
      " [ 1.     -2.5763  0.9961  0.5262]\n",
      " [ 1.     -0.6916 -2.0845 -0.3467]\n",
      " [ 1.      1.7697 -2.2653 -0.2497]\n",
      " [ 1.      3.1565 -0.2429  0.1257]\n",
      " [ 1.      2.0699  1.9706  0.3979]\n",
      " [ 1.     -0.3903  2.1678  0.3034]]\n"
     ]
    }
   ],
   "source": [
    "#task 10\n",
    "def inversion(molecule):\n",
    "    charges = (molecule[:,0][np.newaxis]).T\n",
    "    coords = molecule[:,1:]\n",
    "    inverted_coords = - coords\n",
    "    inverted_molecule = np.hstack((charges,inverted_coords))\n",
    "    return inverted_molecule\n",
    "\n",
    "print(inversion(molecule))"
   ]
  },
  {
   "cell_type": "code",
   "execution_count": null,
   "id": "55dbeb28",
   "metadata": {},
   "outputs": [],
   "source": [
    "#tasks 999 and 1000\n",
    "mol1 = read_xyz(xyz1)\n",
    "mol2 = read_xyz(xyz2)\n",
    "def are_these_the_same(mol1,mol2):\n",
    "    com1 = center_of_mass(mol1)\n",
    "    mol1a = translate(mol1,com1)\n",
    "    com2 = center_of_mass(mol2)\n",
    "    mol2a = translate(mol2,com2)\n",
    "    axes1 = principal_axes(moment_of_inertia(mol1a))\n",
    "    axes2 = principal_axes(moment_of_inertia(mol2a))\n",
    "    (mol1b,axes1b) = rotate_1st_axis_to_z(mol1a,axes1)\n",
    "    (mol1c,axes1c) = rotate_2nd_axis_to_y(mol1b,axes1b)\n",
    "    (mol2b,axes2b) = rotate_1st_axis_to_z(mol2a,axes2)\n",
    "    (mol2c,axes2c) = rotate_2nd_axis_to_y(mol2b,axes2b)\n",
    "    return all_coordinates_match(mol1c,mol2c)\n",
    "    \n",
    "def are_these_mirror_images(mol1,mol2):\n",
    "    inv_mol2 = inversion(mol2)\n",
    "    return are_these_the_same(mol1,inv_mol2)"
   ]
  }
 ],
 "metadata": {
  "kernelspec": {
   "display_name": "Python 3 (ipykernel)",
   "language": "python",
   "name": "python3"
  },
  "language_info": {
   "codemirror_mode": {
    "name": "ipython",
    "version": 3
   },
   "file_extension": ".py",
   "mimetype": "text/x-python",
   "name": "python",
   "nbconvert_exporter": "python",
   "pygments_lexer": "ipython3",
   "version": "3.9.15"
  }
 },
 "nbformat": 4,
 "nbformat_minor": 5
}
